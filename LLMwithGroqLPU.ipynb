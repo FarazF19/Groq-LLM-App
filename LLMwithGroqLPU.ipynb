{
 "cells": [
  {
   "cell_type": "markdown",
   "id": "2c7ed4be",
   "metadata": {},
   "source": [
    "### Simple LLM App wiht LCEL\n",
    "\n",
    "In this quickstart we’ll show you how to build a simple LLM application with LangChain.\n",
    "This application will translate text from English into another language.\n",
    "This is a relatively simple LLM application – it’s just a single LLM call plus some prompting.\n",
    "Still, this is a great way to get started with LangChain – a lot of features can be built with just some prompting and an LLM call!\n",
    "\n",
    "After seeing this video, you’ll have a high-level overview of:\n",
    ". Using language models\n",
    "\n",
    ". Using PromptTemplates and OutputParsers\n",
    "\n",
    ". Using LangChain Expression Language (LCEL) to chain components together\n",
    "\n",
    ". Debugging and tracing your application using LangSmith\n",
    "\n",
    ". Deploying app on Langserve"
   ]
  },
  {
   "cell_type": "code",
   "execution_count": 1,
   "id": "c6e5587f",
   "metadata": {},
   "outputs": [],
   "source": [
    "## OpenAI API Key and Opensource models\n",
    "import os\n",
    "from dotenv import load_dotenv\n",
    "import openai\n",
    "\n",
    "load_dotenv()\n",
    "\n",
    "openai.api_key=os.getenv(\"OPENAI_API_KEY\")\n",
    "\n",
    "groq_api_key=os.getenv(\"GROQ_API_KEY\")"
   ]
  },
  {
   "cell_type": "code",
   "execution_count": 2,
   "metadata": {},
   "outputs": [
    {
     "ename": "ImportError",
     "evalue": "cannot import name 'LangSmithParams' from 'langchain_core.language_models.chat_models' (c:\\Users\\faroo\\OneDrive\\Desktop\\LCEL_APP\\venv\\lib\\site-packages\\langchain_core\\language_models\\chat_models.py)",
     "output_type": "error",
     "traceback": [
      "\u001b[1;31m---------------------------------------------------------------------------\u001b[0m",
      "\u001b[1;31mImportError\u001b[0m                               Traceback (most recent call last)",
      "Cell \u001b[1;32mIn[2], line 1\u001b[0m\n\u001b[1;32m----> 1\u001b[0m \u001b[38;5;28;01mfrom\u001b[39;00m\u001b[38;5;250m \u001b[39m\u001b[38;5;21;01mlangchain_groq\u001b[39;00m\u001b[38;5;250m \u001b[39m\u001b[38;5;28;01mimport\u001b[39;00m ChatGroq\n\u001b[0;32m      2\u001b[0m model\u001b[38;5;241m=\u001b[39mChatGroq(model\u001b[38;5;241m=\u001b[39m\u001b[38;5;124m\"\u001b[39m\u001b[38;5;124mgemma2-9b-it\u001b[39m\u001b[38;5;124m\"\u001b[39m,groq_api_key\u001b[38;5;241m=\u001b[39mgroq_api_key)\n\u001b[0;32m      3\u001b[0m model\n",
      "File \u001b[1;32mc:\\Users\\faroo\\OneDrive\\Desktop\\LCEL_APP\\venv\\lib\\site-packages\\langchain_groq\\__init__.py:1\u001b[0m\n\u001b[1;32m----> 1\u001b[0m \u001b[38;5;28;01mfrom\u001b[39;00m\u001b[38;5;250m \u001b[39m\u001b[38;5;21;01mlangchain_groq\u001b[39;00m\u001b[38;5;21;01m.\u001b[39;00m\u001b[38;5;21;01mchat_models\u001b[39;00m\u001b[38;5;250m \u001b[39m\u001b[38;5;28;01mimport\u001b[39;00m ChatGroq\n\u001b[0;32m      2\u001b[0m \u001b[38;5;28;01mfrom\u001b[39;00m\u001b[38;5;250m \u001b[39m\u001b[38;5;21;01mlangchain_groq\u001b[39;00m\u001b[38;5;21;01m.\u001b[39;00m\u001b[38;5;21;01mversion\u001b[39;00m\u001b[38;5;250m \u001b[39m\u001b[38;5;28;01mimport\u001b[39;00m __version__\n\u001b[0;32m      4\u001b[0m __all__ \u001b[38;5;241m=\u001b[39m [\u001b[38;5;124m\"\u001b[39m\u001b[38;5;124mChatGroq\u001b[39m\u001b[38;5;124m\"\u001b[39m, \u001b[38;5;124m\"\u001b[39m\u001b[38;5;124m__version__\u001b[39m\u001b[38;5;124m\"\u001b[39m]\n",
      "File \u001b[1;32mc:\\Users\\faroo\\OneDrive\\Desktop\\LCEL_APP\\venv\\lib\\site-packages\\langchain_groq\\chat_models.py:32\u001b[0m\n\u001b[0;32m     27\u001b[0m \u001b[38;5;28;01mfrom\u001b[39;00m\u001b[38;5;250m \u001b[39m\u001b[38;5;21;01mlangchain_core\u001b[39;00m\u001b[38;5;21;01m.\u001b[39;00m\u001b[38;5;21;01mcallbacks\u001b[39;00m\u001b[38;5;250m \u001b[39m\u001b[38;5;28;01mimport\u001b[39;00m (\n\u001b[0;32m     28\u001b[0m     AsyncCallbackManagerForLLMRun,\n\u001b[0;32m     29\u001b[0m     CallbackManagerForLLMRun,\n\u001b[0;32m     30\u001b[0m )\n\u001b[0;32m     31\u001b[0m \u001b[38;5;28;01mfrom\u001b[39;00m\u001b[38;5;250m \u001b[39m\u001b[38;5;21;01mlangchain_core\u001b[39;00m\u001b[38;5;21;01m.\u001b[39;00m\u001b[38;5;21;01mlanguage_models\u001b[39;00m\u001b[38;5;250m \u001b[39m\u001b[38;5;28;01mimport\u001b[39;00m LanguageModelInput\n\u001b[1;32m---> 32\u001b[0m \u001b[38;5;28;01mfrom\u001b[39;00m\u001b[38;5;250m \u001b[39m\u001b[38;5;21;01mlangchain_core\u001b[39;00m\u001b[38;5;21;01m.\u001b[39;00m\u001b[38;5;21;01mlanguage_models\u001b[39;00m\u001b[38;5;21;01m.\u001b[39;00m\u001b[38;5;21;01mchat_models\u001b[39;00m\u001b[38;5;250m \u001b[39m\u001b[38;5;28;01mimport\u001b[39;00m (\n\u001b[0;32m     33\u001b[0m     BaseChatModel,\n\u001b[0;32m     34\u001b[0m     LangSmithParams,\n\u001b[0;32m     35\u001b[0m     agenerate_from_stream,\n\u001b[0;32m     36\u001b[0m     generate_from_stream,\n\u001b[0;32m     37\u001b[0m )\n\u001b[0;32m     38\u001b[0m \u001b[38;5;28;01mfrom\u001b[39;00m\u001b[38;5;250m \u001b[39m\u001b[38;5;21;01mlangchain_core\u001b[39;00m\u001b[38;5;21;01m.\u001b[39;00m\u001b[38;5;21;01mmessages\u001b[39;00m\u001b[38;5;250m \u001b[39m\u001b[38;5;28;01mimport\u001b[39;00m (\n\u001b[0;32m     39\u001b[0m     AIMessage,\n\u001b[0;32m     40\u001b[0m     AIMessageChunk,\n\u001b[1;32m   (...)\u001b[0m\n\u001b[0;32m     54\u001b[0m     ToolMessageChunk,\n\u001b[0;32m     55\u001b[0m )\n\u001b[0;32m     56\u001b[0m \u001b[38;5;28;01mfrom\u001b[39;00m\u001b[38;5;250m \u001b[39m\u001b[38;5;21;01mlangchain_core\u001b[39;00m\u001b[38;5;21;01m.\u001b[39;00m\u001b[38;5;21;01moutput_parsers\u001b[39;00m\u001b[38;5;250m \u001b[39m\u001b[38;5;28;01mimport\u001b[39;00m (\n\u001b[0;32m     57\u001b[0m     JsonOutputParser,\n\u001b[0;32m     58\u001b[0m     PydanticOutputParser,\n\u001b[0;32m     59\u001b[0m )\n",
      "\u001b[1;31mImportError\u001b[0m: cannot import name 'LangSmithParams' from 'langchain_core.language_models.chat_models' (c:\\Users\\faroo\\OneDrive\\Desktop\\LCEL_APP\\venv\\lib\\site-packages\\langchain_core\\language_models\\chat_models.py)"
     ]
    }
   ],
   "source": [
    "from langchain_groq import ChatGroq\n",
    "model=ChatGroq(model=\"gemma2-9b-it\",groq_api_key=groq_api_key)\n",
    "model"
   ]
  },
  {
   "cell_type": "code",
   "execution_count": null,
   "id": "59915046",
   "metadata": {},
   "outputs": [],
   "source": [
    "## Messages to LLM \n",
    "from langchain_core.messages import HumanMessage, SystemMessage\n",
    "\n",
    "messages = [\n",
    "    SystemMessage(content=\"Translate the following from English to French\"),\n",
    "    HumanMessage(content=\"Hello How are you?\")\n",
    "]\n",
    "\n",
    "response=model.invoke(messages)"
   ]
  },
  {
   "cell_type": "code",
   "execution_count": null,
   "metadata": {},
   "outputs": [
    {
     "data": {
      "text/plain": [
       "AIMessage(content='Here are a few ways to say \"Hello, how are you?\" in French:\\n\\n**Formal:**\\n\\n* **Bonjour, comment allez-vous ?** (This is the most polite and formal way to greet someone.)\\n\\n**Informal:**\\n\\n* **Salut, ça va ?** (This is a common and casual greeting amongst friends.)\\n* **Coucou, comment vas-tu ?** (A more familiar and friendly greeting, often used with close friends.)\\n\\n\\n\\nLet me know if you\\'d like more variations!\\n', additional_kwargs={}, response_metadata={'token_usage': {'completion_tokens': 109, 'prompt_tokens': 21, 'total_tokens': 130, 'completion_time': 0.198181818, 'prompt_time': 0.002142696, 'queue_time': 0.018349724, 'total_time': 0.200324514}, 'model_name': 'gemma2-9b-it', 'system_fingerprint': 'fp_10c08bf97d', 'finish_reason': 'stop', 'logprobs': None}, id='run-652e379c-cb58-49a0-b8ec-b2b2783d88bb-0', usage_metadata={'input_tokens': 21, 'output_tokens': 109, 'total_tokens': 130})"
      ]
     },
     "execution_count": 19,
     "metadata": {},
     "output_type": "execute_result"
    }
   ],
   "source": [
    "response"
   ]
  },
  {
   "cell_type": "code",
   "execution_count": null,
   "metadata": {},
   "outputs": [
    {
     "data": {
      "text/plain": [
       "'Here are a few ways to say \"Hello, how are you?\" in French:\\n\\n**Formal:**\\n\\n* **Bonjour, comment allez-vous ?** (This is the most polite and formal way to greet someone.)\\n\\n**Informal:**\\n\\n* **Salut, ça va ?** (This is a common and casual greeting amongst friends.)\\n* **Coucou, comment vas-tu ?** (A more familiar and friendly greeting, often used with close friends.)\\n\\n\\n\\nLet me know if you\\'d like more variations!\\n'"
      ]
     },
     "execution_count": 23,
     "metadata": {},
     "output_type": "execute_result"
    }
   ],
   "source": [
    "## Parse the output to just get the response \n",
    "from langchain_core.output_parsers import StrOutputParser\n",
    "parser=StrOutputParser()\n",
    "parser.invoke(response)"
   ]
  },
  {
   "cell_type": "code",
   "execution_count": null,
   "id": "1fea807c",
   "metadata": {},
   "outputs": [
    {
     "data": {
      "text/plain": [
       "'Here are a few ways to say \"Hello, how are you?\" in French:\\n\\n**Formal:**\\n\\n* **Bonjour, comment allez-vous ?** (This is the most polite and formal way to greet someone.)\\n\\n**Informal:**\\n\\n* **Salut, comment vas-tu ?** (This is a more casual greeting, used with friends and family.)\\n* **Bonjour, ça va ?** (This is a very common and informal greeting.)\\n\\n**Other options:**\\n\\n* **Coucou, comment ça va ?** (This is a very informal and friendly greeting, often used with close friends.)\\n\\nThe best option will depend on the context and your relationship with the person you are greeting.\\n'"
      ]
     },
     "execution_count": 24,
     "metadata": {},
     "output_type": "execute_result"
    }
   ],
   "source": [
    "## Using LCEL to chain components\n",
    "chain=model|parser\n",
    "chain.invoke(messages)"
   ]
  },
  {
   "cell_type": "code",
   "execution_count": null,
   "id": "380c9ae3",
   "metadata": {},
   "outputs": [],
   "source": [
    "## Chat Prompt Template\n",
    "\n",
    "from langchain_core.prompts import ChatPromptTemplate\n",
    "\n",
    "generic_template=\"Translate the following into {language}\"\n",
    "\n",
    "prompt=ChatPromptTemplate.from_messages([\n",
    "    (\"system\",generic_template),(\"user\",\"{text}\")\n",
    "])"
   ]
  },
  {
   "cell_type": "code",
   "execution_count": null,
   "id": "08098c35",
   "metadata": {},
   "outputs": [],
   "source": [
    "result=prompt.invoke({\"language\":\"Roman Urdu\",\"text\":\"Hello,How are you\"})"
   ]
  },
  {
   "cell_type": "code",
   "execution_count": null,
   "metadata": {},
   "outputs": [
    {
     "data": {
      "text/plain": [
       "[SystemMessage(content='Translate the following into Roman Urdu', additional_kwargs={}, response_metadata={}),\n",
       " HumanMessage(content='Hello,How are you', additional_kwargs={}, response_metadata={})]"
      ]
     },
     "execution_count": 31,
     "metadata": {},
     "output_type": "execute_result"
    }
   ],
   "source": [
    "result.to_messages()"
   ]
  },
  {
   "cell_type": "code",
   "execution_count": null,
   "metadata": {},
   "outputs": [
    {
     "data": {
      "text/plain": [
       "'Here\\'s how you\\'d say \"Hello, How are you?\" in Roman Urdu:\\n\\n* **\"Salam, kaise hain?\"** \\n\\nLet me break it down:\\n\\n* **Salam:** This is the most common greeting in Urdu, meaning \"Hello\".\\n* **kaise hain:** This means \"How are you?\" and is a polite way to ask someone about their well-being.\\n\\n\\n\\n'"
      ]
     },
     "execution_count": 32,
     "metadata": {},
     "output_type": "execute_result"
    }
   ],
   "source": [
    "## Chaining using LCEL\n",
    "chain=prompt|model|parser\n",
    "\n",
    "chain.invoke({\"language\":\"Roman Urdu\",\"text\":\"Hello,How are you\"})"
   ]
  },
  {
   "cell_type": "code",
   "execution_count": null,
   "id": "6ccfe9d9",
   "metadata": {},
   "outputs": [],
   "source": []
  }
 ],
 "metadata": {
  "kernelspec": {
   "display_name": "venv",
   "language": "python",
   "name": "python3"
  },
  "language_info": {
   "codemirror_mode": {
    "name": "ipython",
    "version": 3
   },
   "file_extension": ".py",
   "mimetype": "text/x-python",
   "name": "python",
   "nbconvert_exporter": "python",
   "pygments_lexer": "ipython3",
   "version": "3.10.0"
  }
 },
 "nbformat": 4,
 "nbformat_minor": 5
}
